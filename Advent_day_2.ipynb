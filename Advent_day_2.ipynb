{
  "nbformat": 4,
  "nbformat_minor": 0,
  "metadata": {
    "colab": {
      "provenance": [],
      "authorship_tag": "ABX9TyMlAJrlv88TYn77caU/SEYF",
      "include_colab_link": true
    },
    "kernelspec": {
      "name": "python3",
      "display_name": "Python 3"
    },
    "language_info": {
      "name": "python"
    }
  },
  "cells": [
    {
      "cell_type": "markdown",
      "metadata": {
        "id": "view-in-github",
        "colab_type": "text"
      },
      "source": [
        "<a href=\"https://colab.research.google.com/github/taniseb/adventofcode2022/blob/main/Advent_day_2.ipynb\" target=\"_parent\"><img src=\"https://colab.research.google.com/assets/colab-badge.svg\" alt=\"Open In Colab\"/></a>"
      ]
    },
    {
      "cell_type": "markdown",
      "source": [
        "Abrindo os dados"
      ],
      "metadata": {
        "id": "weLS1C9IyC6r"
      }
    },
    {
      "cell_type": "code",
      "execution_count": 1,
      "metadata": {
        "colab": {
          "base_uri": "https://localhost:8080/",
          "height": 76
        },
        "id": "fps_IKsHx-7-",
        "outputId": "9796748c-6576-4975-abcd-01f990c4e48a"
      },
      "outputs": [
        {
          "output_type": "display_data",
          "data": {
            "text/plain": [
              "<IPython.core.display.HTML object>"
            ],
            "text/html": [
              "\n",
              "     <input type=\"file\" id=\"files-fed38bb3-b575-4c32-9a31-f9e29da3a3cf\" name=\"files[]\" multiple disabled\n",
              "        style=\"border:none\" />\n",
              "     <output id=\"result-fed38bb3-b575-4c32-9a31-f9e29da3a3cf\">\n",
              "      Upload widget is only available when the cell has been executed in the\n",
              "      current browser session. Please rerun this cell to enable.\n",
              "      </output>\n",
              "      <script>// Copyright 2017 Google LLC\n",
              "//\n",
              "// Licensed under the Apache License, Version 2.0 (the \"License\");\n",
              "// you may not use this file except in compliance with the License.\n",
              "// You may obtain a copy of the License at\n",
              "//\n",
              "//      http://www.apache.org/licenses/LICENSE-2.0\n",
              "//\n",
              "// Unless required by applicable law or agreed to in writing, software\n",
              "// distributed under the License is distributed on an \"AS IS\" BASIS,\n",
              "// WITHOUT WARRANTIES OR CONDITIONS OF ANY KIND, either express or implied.\n",
              "// See the License for the specific language governing permissions and\n",
              "// limitations under the License.\n",
              "\n",
              "/**\n",
              " * @fileoverview Helpers for google.colab Python module.\n",
              " */\n",
              "(function(scope) {\n",
              "function span(text, styleAttributes = {}) {\n",
              "  const element = document.createElement('span');\n",
              "  element.textContent = text;\n",
              "  for (const key of Object.keys(styleAttributes)) {\n",
              "    element.style[key] = styleAttributes[key];\n",
              "  }\n",
              "  return element;\n",
              "}\n",
              "\n",
              "// Max number of bytes which will be uploaded at a time.\n",
              "const MAX_PAYLOAD_SIZE = 100 * 1024;\n",
              "\n",
              "function _uploadFiles(inputId, outputId) {\n",
              "  const steps = uploadFilesStep(inputId, outputId);\n",
              "  const outputElement = document.getElementById(outputId);\n",
              "  // Cache steps on the outputElement to make it available for the next call\n",
              "  // to uploadFilesContinue from Python.\n",
              "  outputElement.steps = steps;\n",
              "\n",
              "  return _uploadFilesContinue(outputId);\n",
              "}\n",
              "\n",
              "// This is roughly an async generator (not supported in the browser yet),\n",
              "// where there are multiple asynchronous steps and the Python side is going\n",
              "// to poll for completion of each step.\n",
              "// This uses a Promise to block the python side on completion of each step,\n",
              "// then passes the result of the previous step as the input to the next step.\n",
              "function _uploadFilesContinue(outputId) {\n",
              "  const outputElement = document.getElementById(outputId);\n",
              "  const steps = outputElement.steps;\n",
              "\n",
              "  const next = steps.next(outputElement.lastPromiseValue);\n",
              "  return Promise.resolve(next.value.promise).then((value) => {\n",
              "    // Cache the last promise value to make it available to the next\n",
              "    // step of the generator.\n",
              "    outputElement.lastPromiseValue = value;\n",
              "    return next.value.response;\n",
              "  });\n",
              "}\n",
              "\n",
              "/**\n",
              " * Generator function which is called between each async step of the upload\n",
              " * process.\n",
              " * @param {string} inputId Element ID of the input file picker element.\n",
              " * @param {string} outputId Element ID of the output display.\n",
              " * @return {!Iterable<!Object>} Iterable of next steps.\n",
              " */\n",
              "function* uploadFilesStep(inputId, outputId) {\n",
              "  const inputElement = document.getElementById(inputId);\n",
              "  inputElement.disabled = false;\n",
              "\n",
              "  const outputElement = document.getElementById(outputId);\n",
              "  outputElement.innerHTML = '';\n",
              "\n",
              "  const pickedPromise = new Promise((resolve) => {\n",
              "    inputElement.addEventListener('change', (e) => {\n",
              "      resolve(e.target.files);\n",
              "    });\n",
              "  });\n",
              "\n",
              "  const cancel = document.createElement('button');\n",
              "  inputElement.parentElement.appendChild(cancel);\n",
              "  cancel.textContent = 'Cancel upload';\n",
              "  const cancelPromise = new Promise((resolve) => {\n",
              "    cancel.onclick = () => {\n",
              "      resolve(null);\n",
              "    };\n",
              "  });\n",
              "\n",
              "  // Wait for the user to pick the files.\n",
              "  const files = yield {\n",
              "    promise: Promise.race([pickedPromise, cancelPromise]),\n",
              "    response: {\n",
              "      action: 'starting',\n",
              "    }\n",
              "  };\n",
              "\n",
              "  cancel.remove();\n",
              "\n",
              "  // Disable the input element since further picks are not allowed.\n",
              "  inputElement.disabled = true;\n",
              "\n",
              "  if (!files) {\n",
              "    return {\n",
              "      response: {\n",
              "        action: 'complete',\n",
              "      }\n",
              "    };\n",
              "  }\n",
              "\n",
              "  for (const file of files) {\n",
              "    const li = document.createElement('li');\n",
              "    li.append(span(file.name, {fontWeight: 'bold'}));\n",
              "    li.append(span(\n",
              "        `(${file.type || 'n/a'}) - ${file.size} bytes, ` +\n",
              "        `last modified: ${\n",
              "            file.lastModifiedDate ? file.lastModifiedDate.toLocaleDateString() :\n",
              "                                    'n/a'} - `));\n",
              "    const percent = span('0% done');\n",
              "    li.appendChild(percent);\n",
              "\n",
              "    outputElement.appendChild(li);\n",
              "\n",
              "    const fileDataPromise = new Promise((resolve) => {\n",
              "      const reader = new FileReader();\n",
              "      reader.onload = (e) => {\n",
              "        resolve(e.target.result);\n",
              "      };\n",
              "      reader.readAsArrayBuffer(file);\n",
              "    });\n",
              "    // Wait for the data to be ready.\n",
              "    let fileData = yield {\n",
              "      promise: fileDataPromise,\n",
              "      response: {\n",
              "        action: 'continue',\n",
              "      }\n",
              "    };\n",
              "\n",
              "    // Use a chunked sending to avoid message size limits. See b/62115660.\n",
              "    let position = 0;\n",
              "    do {\n",
              "      const length = Math.min(fileData.byteLength - position, MAX_PAYLOAD_SIZE);\n",
              "      const chunk = new Uint8Array(fileData, position, length);\n",
              "      position += length;\n",
              "\n",
              "      const base64 = btoa(String.fromCharCode.apply(null, chunk));\n",
              "      yield {\n",
              "        response: {\n",
              "          action: 'append',\n",
              "          file: file.name,\n",
              "          data: base64,\n",
              "        },\n",
              "      };\n",
              "\n",
              "      let percentDone = fileData.byteLength === 0 ?\n",
              "          100 :\n",
              "          Math.round((position / fileData.byteLength) * 100);\n",
              "      percent.textContent = `${percentDone}% done`;\n",
              "\n",
              "    } while (position < fileData.byteLength);\n",
              "  }\n",
              "\n",
              "  // All done.\n",
              "  yield {\n",
              "    response: {\n",
              "      action: 'complete',\n",
              "    }\n",
              "  };\n",
              "}\n",
              "\n",
              "scope.google = scope.google || {};\n",
              "scope.google.colab = scope.google.colab || {};\n",
              "scope.google.colab._files = {\n",
              "  _uploadFiles,\n",
              "  _uploadFilesContinue,\n",
              "};\n",
              "})(self);\n",
              "</script> "
            ]
          },
          "metadata": {}
        },
        {
          "output_type": "stream",
          "name": "stdout",
          "text": [
            "Saving dados_day2.txt to dados_day2.txt\n"
          ]
        }
      ],
      "source": [
        "import pandas as pd\n",
        "from google.colab import files\n",
        "uploaded = files.upload()"
      ]
    },
    {
      "cell_type": "code",
      "source": [
        "uploaded"
      ],
      "metadata": {
        "colab": {
          "base_uri": "https://localhost:8080/"
        },
        "id": "vVw-wLQKyVPd",
        "outputId": "a4e30720-bf2e-4564-e144-535fac8b8e39"
      },
      "execution_count": 2,
      "outputs": [
        {
          "output_type": "execute_result",
          "data": {
            "text/plain": [
              "{'dados_day2.txt': b'B X\\nC Y\\nA X\\nB X\\nB Y\\nB X\\nA Z\\nA Z\\nA X\\nC X\\nC X\\nB X\\nB X\\nC X\\nC Y\\nA Z\\nB Y\\nC Y\\nC X\\nB X\\nB X\\nC Y\\nA Z\\nA Z\\nC X\\nA Z\\nA Z\\nB X\\nA X\\nC Y\\nB Y\\nC X\\nB Y\\nB X\\nB X\\nA X\\nB Y\\nA Z\\nA Z\\nA Z\\nA Z\\nC X\\nB X\\nB Z\\nB X\\nC Y\\nB X\\nA Z\\nB X\\nA Z\\nA Z\\nA Z\\nC Y\\nC Y\\nC Y\\nA X\\nB X\\nB X\\nB Y\\nA Z\\nB Y\\nB X\\nB Y\\nA Z\\nC X\\nB X\\nA Z\\nB X\\nA Z\\nC Y\\nB X\\nC Y\\nA Z\\nC X\\nC Y\\nC X\\nC Y\\nC X\\nA X\\nA X\\nB Y\\nA X\\nA Y\\nA X\\nC Y\\nC Y\\nA Z\\nB Y\\nA Z\\nC Y\\nA Z\\nB X\\nA X\\nB X\\nC Y\\nA Y\\nB X\\nB X\\nC Y\\nA X\\nA X\\nC Y\\nB Y\\nA Z\\nA X\\nC Y\\nC X\\nA Z\\nB Y\\nB X\\nB Z\\nC X\\nB Y\\nC X\\nB Z\\nC X\\nA Z\\nC X\\nC Y\\nC Y\\nB Y\\nB Y\\nC Y\\nA X\\nB Y\\nA Z\\nB X\\nC X\\nC Y\\nB X\\nA X\\nC Z\\nA Z\\nB Y\\nA X\\nB X\\nA X\\nB X\\nB Y\\nB X\\nB Y\\nB Y\\nC Y\\nB X\\nB Y\\nB X\\nB X\\nA Z\\nC Y\\nB Y\\nA Z\\nC X\\nB X\\nB X\\nB Y\\nB X\\nC Y\\nA Z\\nA Z\\nC Y\\nC Y\\nA X\\nA Z\\nA Z\\nC X\\nA Z\\nB Y\\nA Z\\nA Y\\nB X\\nA Z\\nC Y\\nC Y\\nB X\\nA Z\\nB X\\nA X\\nA X\\nB Z\\nC Y\\nC Y\\nC Y\\nC X\\nC Y\\nB X\\nB X\\nB Y\\nA X\\nB X\\nB X\\nC X\\nA X\\nC Y\\nB X\\nA Z\\nB Y\\nA Z\\nB Y\\nB X\\nA Y\\nC Y\\nC X\\nB Z\\nC Y\\nB Y\\nB Y\\nB X\\nC Y\\nB X\\nC Y\\nA Z\\nA X\\nB X\\nA Z\\nC Y\\nC X\\nC Y\\nB Y\\nB Y\\nA Z\\nC Y\\nB X\\nB X\\nB X\\nA Z\\nC X\\nA Z\\nB X\\nA Z\\nB X\\nB X\\nB X\\nB Y\\nC X\\nA Z\\nB X\\nB X\\nC Y\\nA X\\nB Y\\nB X\\nA Z\\nA Z\\nB X\\nC Y\\nA Z\\nA Z\\nB X\\nB Y\\nB Y\\nB X\\nA Z\\nC X\\nA Z\\nA X\\nC Y\\nB Z\\nA Z\\nA Z\\nA Z\\nA X\\nC Y\\nB X\\nC Y\\nA Z\\nA Z\\nC Y\\nB X\\nA Z\\nA X\\nA Y\\nA Z\\nB Y\\nC Y\\nB Y\\nA Z\\nA Z\\nC Y\\nC Y\\nA Z\\nA Z\\nC X\\nA Z\\nA Z\\nC X\\nC Y\\nB X\\nB Y\\nB Y\\nB X\\nC Y\\nA X\\nC X\\nA X\\nB X\\nC Y\\nC Y\\nC X\\nB Z\\nA X\\nA Z\\nC Y\\nC Y\\nC Y\\nB X\\nB Y\\nA Z\\nA Z\\nC X\\nB X\\nA Z\\nC Y\\nB Z\\nB X\\nA X\\nA Z\\nA X\\nB X\\nB X\\nA Z\\nA Z\\nB Y\\nB Y\\nB Y\\nB X\\nA Z\\nB X\\nC X\\nB Y\\nB Z\\nA Z\\nC X\\nC Y\\nB Y\\nA X\\nC X\\nA Z\\nB X\\nA X\\nA Z\\nB X\\nC X\\nB X\\nA Z\\nB Y\\nB Z\\nA X\\nC Y\\nA Z\\nB Y\\nB Z\\nC X\\nB X\\nC Y\\nC Y\\nB X\\nA X\\nB X\\nB Y\\nA Z\\nC Y\\nA Z\\nC Y\\nA Z\\nA X\\nB Z\\nC X\\nC Y\\nB X\\nC X\\nB Z\\nB X\\nC Y\\nA Z\\nA Z\\nC Y\\nB X\\nA Z\\nC Y\\nA X\\nB Y\\nA Z\\nB X\\nA Z\\nA Z\\nC Y\\nB X\\nA Z\\nA Z\\nC Y\\nB Y\\nB Y\\nC X\\nC Y\\nB Y\\nC X\\nB Y\\nA Z\\nC Y\\nB Y\\nA Z\\nB X\\nB X\\nA Y\\nB X\\nB X\\nB Y\\nB Y\\nC X\\nC Y\\nA Z\\nC X\\nA Z\\nA Z\\nA Y\\nA Z\\nB Z\\nC Y\\nC Y\\nC Y\\nC X\\nC Y\\nC Y\\nB X\\nC Y\\nC X\\nB X\\nC Y\\nC X\\nC Y\\nA Z\\nC Y\\nB Z\\nC X\\nA Z\\nC Y\\nC X\\nB X\\nB Z\\nC Y\\nC Y\\nB X\\nB Y\\nA X\\nB Y\\nA Z\\nC Y\\nC X\\nC X\\nA X\\nB Y\\nA Z\\nB Y\\nC Y\\nB Y\\nB Y\\nA X\\nC X\\nA Z\\nC X\\nA Z\\nB X\\nA X\\nA Z\\nB X\\nA X\\nB X\\nC Y\\nB Y\\nB X\\nC X\\nC Z\\nA Z\\nB Y\\nB X\\nA X\\nB Y\\nC Y\\nC Y\\nA X\\nC X\\nB Z\\nA Z\\nA Z\\nB X\\nA Z\\nC X\\nB Z\\nB Z\\nC Y\\nC Y\\nB Y\\nC Y\\nA Z\\nC Y\\nB X\\nB X\\nB X\\nA Y\\nA Z\\nA Z\\nA Z\\nC Y\\nB Y\\nB Y\\nC Y\\nA Z\\nA Z\\nA Y\\nC Y\\nC Y\\nA Z\\nC X\\nB X\\nA Z\\nC Y\\nC Y\\nA X\\nA Z\\nC X\\nA X\\nB Z\\nB X\\nB X\\nA Z\\nC Y\\nB Y\\nA Z\\nA Z\\nC Y\\nA Z\\nA X\\nC X\\nA Z\\nB X\\nC X\\nC Y\\nB Z\\nC Z\\nA Z\\nA X\\nC X\\nB Y\\nC Y\\nA X\\nB Y\\nA Z\\nB X\\nB Y\\nA X\\nC X\\nA Z\\nA Z\\nB X\\nA X\\nA X\\nC Y\\nB Y\\nA Z\\nC X\\nA Z\\nB Y\\nA Y\\nC Y\\nB X\\nC X\\nB X\\nB X\\nA Z\\nB X\\nC X\\nC Y\\nA Z\\nC Y\\nA Z\\nB Z\\nB Z\\nA Z\\nA Z\\nA Z\\nA Z\\nC Y\\nC Y\\nA Z\\nA Z\\nB Y\\nA Z\\nA Z\\nA X\\nC Y\\nC Z\\nA X\\nC X\\nB X\\nB X\\nA Z\\nC Y\\nA Z\\nA Z\\nB X\\nA Z\\nC Y\\nB Z\\nA Z\\nA Z\\nA Y\\nC X\\nA Z\\nB Y\\nB Y\\nC X\\nB X\\nC X\\nA X\\nC Y\\nA X\\nC X\\nA Z\\nB X\\nB X\\nA Z\\nB X\\nA Z\\nA X\\nB X\\nA Z\\nB X\\nC Z\\nB X\\nC Z\\nA Z\\nB X\\nC Y\\nA Z\\nB X\\nB X\\nB Y\\nC Y\\nA Z\\nA Z\\nC X\\nC Y\\nA Z\\nC Y\\nA Y\\nC Y\\nB Y\\nB Y\\nB X\\nC X\\nA Z\\nC Y\\nA Z\\nC Y\\nC X\\nA Y\\nC Y\\nC X\\nA Z\\nC Y\\nB X\\nA Z\\nA Z\\nB Y\\nC X\\nA Z\\nA Z\\nB Y\\nC Z\\nA Z\\nB X\\nB X\\nB Y\\nA Y\\nA X\\nA Z\\nB Y\\nC X\\nC X\\nB Z\\nB Y\\nA Z\\nB Z\\nC Y\\nB X\\nA X\\nC X\\nA Z\\nA Z\\nB Y\\nB Y\\nB X\\nC Y\\nA X\\nC X\\nC Z\\nC X\\nB Y\\nB Y\\nA Z\\nB X\\nA Z\\nA Z\\nC Y\\nC Y\\nA X\\nC X\\nC Y\\nC X\\nA Z\\nB Z\\nB Y\\nC X\\nA Z\\nB X\\nB X\\nA X\\nA Z\\nB Z\\nB X\\nA Z\\nA Z\\nA Z\\nB X\\nC Y\\nB X\\nA X\\nA X\\nC Y\\nA Z\\nC Y\\nB X\\nA Z\\nB X\\nB Y\\nB Y\\nA Z\\nB X\\nB Y\\nC Y\\nB X\\nB Y\\nB Y\\nB Y\\nA Z\\nC Y\\nB X\\nB Y\\nC Y\\nC X\\nB X\\nC X\\nA Z\\nC Y\\nA Z\\nA Z\\nC Y\\nB Y\\nA Z\\nB Y\\nB Y\\nB Z\\nB X\\nB X\\nB X\\nA X\\nC Y\\nB X\\nB X\\nB X\\nB X\\nB X\\nA Z\\nA Z\\nA Z\\nA Z\\nA Z\\nC Y\\nB Y\\nC X\\nA Z\\nC Y\\nB X\\nC Y\\nC X\\nA Z\\nA Z\\nB X\\nC Y\\nC Y\\nA Z\\nB X\\nA Z\\nB Y\\nB Y\\nC Y\\nC Z\\nC Y\\nB Y\\nB X\\nC X\\nC Y\\nB X\\nB X\\nA X\\nC Y\\nA Z\\nB Y\\nA X\\nC Y\\nA Z\\nA Z\\nA X\\nA Z\\nA X\\nB Y\\nC Y\\nB X\\nC Y\\nA X\\nC X\\nC X\\nB Y\\nA Z\\nC Y\\nC Z\\nC Y\\nC Y\\nC X\\nC Y\\nA Z\\nA Z\\nB X\\nC X\\nA Y\\nB X\\nC X\\nC X\\nB Y\\nA Y\\nA Z\\nC X\\nC X\\nC Z\\nB X\\nA X\\nC Y\\nA Z\\nB X\\nA Z\\nB X\\nB X\\nC X\\nB X\\nB X\\nA X\\nB X\\nB X\\nC Y\\nB Y\\nA Y\\nB X\\nB Z\\nC X\\nA Z\\nC Y\\nA X\\nC Y\\nC Y\\nB X\\nB X\\nC Y\\nC Y\\nC Y\\nA Z\\nA Z\\nC X\\nC X\\nB X\\nC Y\\nC Y\\nB X\\nC Y\\nA Z\\nA Z\\nC Y\\nC X\\nA Z\\nA Z\\nB X\\nB Y\\nC X\\nB X\\nB Z\\nA Z\\nB X\\nB X\\nB X\\nC Y\\nA Y\\nA Z\\nB Z\\nB X\\nB X\\nB Y\\nA Z\\nB Y\\nB X\\nA X\\nA Z\\nC Y\\nB X\\nC Y\\nC Y\\nA Z\\nA Z\\nB Z\\nA Z\\nB X\\nC Y\\nB Y\\nB Z\\nB Y\\nA Z\\nC Y\\nC Y\\nB Y\\nC X\\nC Y\\nA Z\\nC X\\nA Z\\nB X\\nB Y\\nA Z\\nB Z\\nC X\\nC Y\\nB Y\\nC Y\\nB Y\\nA Z\\nC X\\nB X\\nA Z\\nB X\\nB X\\nB X\\nA X\\nC X\\nB Y\\nC X\\nA Z\\nC Y\\nB X\\nA Z\\nA Z\\nA X\\nB Y\\nA Z\\nA Z\\nC X\\nA Z\\nB Y\\nA X\\nB X\\nB Y\\nA Z\\nB Z\\nB X\\nA Z\\nC Y\\nA X\\nA Z\\nC Y\\nC X\\nC Y\\nC X\\nA Z\\nA Z\\nA Z\\nC Z\\nC X\\nC Y\\nA Z\\nC Y\\nC Y\\nC Z\\nC Y\\nC Y\\nA X\\nA X\\nA Z\\nB X\\nB Z\\nA Z\\nB X\\nA Z\\nA Z\\nC X\\nA Z\\nB Y\\nA Z\\nB Z\\nA Z\\nC X\\nA Z\\nB Z\\nA X\\nC Y\\nB Y\\nC Y\\nC X\\nC Y\\nC X\\nA Z\\nC Y\\nC Y\\nC Y\\nC Y\\nA Z\\nB Z\\nB Y\\nB X\\nB X\\nC Y\\nA Z\\nA Z\\nA X\\nC X\\nA Z\\nB X\\nA Z\\nB X\\nC Y\\nC X\\nA Z\\nB X\\nC Y\\nA X\\nB Y\\nC Y\\nC X\\nA X\\nC Y\\nA Z\\nB X\\nC X\\nA X\\nB Y\\nB Z\\nA Z\\nA Z\\nA X\\nA Z\\nC X\\nA Z\\nB X\\nB X\\nC Y\\nB X\\nB X\\nA Z\\nB X\\nA Z\\nB X\\nB Z\\nA Y\\nA X\\nA Z\\nC X\\nA Z\\nA Z\\nB X\\nB X\\nB Y\\nB Y\\nA X\\nC X\\nA Z\\nC X\\nA Y\\nA Z\\nC X\\nB Y\\nA Z\\nC Y\\nA Z\\nA Z\\nC Y\\nA Z\\nA Z\\nA Z\\nA Z\\nB X\\nC Y\\nB Y\\nA X\\nB X\\nA Z\\nB Y\\nB X\\nB Y\\nB Y\\nC Y\\nC X\\nC X\\nB Y\\nC Y\\nA Z\\nB X\\nC X\\nB Z\\nA Z\\nC X\\nB X\\nC Y\\nC X\\nA Z\\nC X\\nC Y\\nB X\\nC X\\nC Y\\nB Y\\nA X\\nA Z\\nC X\\nC X\\nB X\\nB X\\nB X\\nC Y\\nB X\\nB X\\nB Y\\nB Y\\nB X\\nC X\\nC Y\\nB X\\nB X\\nB X\\nA Y\\nB Z\\nC X\\nC Y\\nC Y\\nB X\\nB X\\nA Z\\nA X\\nC Y\\nB X\\nC X\\nB X\\nB Y\\nA X\\nC Z\\nC Y\\nA Z\\nB Y\\nB Y\\nA Z\\nC X\\nC X\\nA Z\\nB Y\\nA Z\\nB X\\nA Z\\nC Y\\nC Y\\nB Y\\nA Z\\nA Z\\nA Z\\nC Y\\nC Y\\nA X\\nC X\\nB Y\\nC Y\\nC Y\\nC X\\nA Z\\nA Z\\nC X\\nC Y\\nA X\\nB X\\nA X\\nB Y\\nA X\\nA Z\\nA Z\\nC Y\\nA Z\\nB X\\nC X\\nA Z\\nA Z\\nA Z\\nC Y\\nC X\\nA Z\\nC Y\\nC Y\\nB X\\nB X\\nC X\\nB X\\nC X\\nA Z\\nB X\\nB Z\\nB X\\nB X\\nC Y\\nA X\\nA Z\\nB X\\nA Z\\nC Y\\nA Z\\nC Z\\nA Z\\nC Z\\nC X\\nA Z\\nB Z\\nA Z\\nC Y\\nB X\\nC Y\\nA Y\\nC Y\\nC X\\nB X\\nB Y\\nC X\\nA Z\\nB Z\\nA Z\\nB Y\\nB X\\nA X\\nB X\\nB Z\\nC Y\\nB Y\\nC Y\\nC X\\nB X\\nC Y\\nC Y\\nA Y\\nC Y\\nB X\\nB X\\nA Z\\nB X\\nB Z\\nC X\\nA Z\\nC Z\\nC Y\\nA Z\\nA Z\\nB Z\\nC X\\nA Z\\nC Y\\nA Z\\nA Z\\nB X\\nB Y\\nB Z\\nC X\\nC Y\\nB X\\nA Z\\nB X\\nA Z\\nB X\\nA Z\\nB X\\nA X\\nC Y\\nB Y\\nC Y\\nB X\\nA Z\\nB X\\nC Y\\nB Y\\nB Y\\nB X\\nA Z\\nB X\\nC Y\\nA X\\nA Y\\nB X\\nA Z\\nA Z\\nB Y\\nA Z\\nA Z\\nC Y\\nB Y\\nA Z\\nC Y\\nC Y\\nC Y\\nB Y\\nA Z\\nB X\\nA Z\\nC Z\\nA Z\\nA Y\\nB Z\\nC Y\\nA Z\\nC Y\\nC X\\nB Y\\nA Z\\nA Z\\nB X\\nA X\\nA Z\\nB X\\nA Z\\nC Y\\nC X\\nA Z\\nA Z\\nC X\\nA X\\nA Z\\nC Y\\nA Z\\nA Z\\nC X\\nC Y\\nB X\\nB Y\\nB Y\\nC Y\\nC Z\\nB Z\\nC X\\nC Y\\nA X\\nA Z\\nB X\\nB Y\\nB Y\\nC X\\nB Z\\nB Y\\nB X\\nB Y\\nC X\\nC Y\\nB X\\nB Y\\nB X\\nC X\\nC Y\\nC X\\nA Z\\nB Z\\nB Z\\nC X\\nC X\\nB X\\nC X\\nB X\\nC Y\\nC Y\\nC Y\\nB X\\nC Y\\nC X\\nA X\\nA Z\\nA X\\nA Z\\nB X\\nB X\\nA Z\\nA X\\nB Y\\nA Z\\nB X\\nA Y\\nB X\\nC Y\\nA Y\\nA Y\\nB X\\nB Y\\nC Z\\nC Y\\nB Y\\nB Y\\nB X\\nA Z\\nA Z\\nB X\\nA X\\nB X\\nB Y\\nB X\\nB X\\nA Z\\nC X\\nA Z\\nA X\\nA Z\\nB Z\\nB X\\nA Z\\nC X\\nA X\\nB Y\\nC X\\nB X\\nC X\\nA Y\\nA Z\\nB Y\\nC Y\\nA Z\\nA Z\\nA Z\\nA Z\\nA X\\nA Z\\nB X\\nA Z\\nC X\\nA Z\\nB Y\\nC Y\\nA Z\\nB X\\nA Z\\nC Y\\nB X\\nC Z\\nB Y\\nC X\\nA Z\\nA X\\nC Y\\nB Y\\nB X\\nC Y\\nC X\\nA Z\\nB X\\nC Y\\nA Z\\nA Y\\nC Y\\nB X\\nC X\\nB Y\\nA X\\nC Y\\nB X\\nC Y\\nA Z\\nA Z\\nA Z\\nC Y\\nB Z\\nB X\\nA Z\\nA X\\nB X\\nC X\\nB X\\nA Z\\nB X\\nB X\\nB Y\\nB X\\nA Z\\nC X\\nB X\\nA Z\\nA Z\\nC X\\nA X\\nA X\\nB X\\nB Y\\nA Z\\nC Y\\nC Y\\nB X\\nB X\\nA X\\nA Z\\nA Z\\nA X\\nB X\\nA Z\\nB Y\\nC X\\nB X\\nB X\\nC Y\\nA Z\\nB X\\nA X\\nC Y\\nC Y\\nC Y\\nA Z\\nB Y\\nC Y\\nC Y\\nC X\\nA Z\\nB Y\\nB X\\nB Y\\nB X\\nC Y\\nC Y\\nA X\\nB X\\nB X\\nC Z\\nC Y\\nB Z\\nA Z\\nB X\\nB X\\nB Y\\nC Y\\nC Y\\nA Z\\nC X\\nB X\\nB X\\nA Z\\nB Y\\nB Z\\nB X\\nA Z\\nA Z\\nA Z\\nC X\\nC Y\\nC X\\nC X\\nA X\\nC X\\nC Y\\nA X\\nB X\\nA Z\\nA X\\nB Y\\nB X\\nA Z\\nA Z\\nC Y\\nB Y\\nA Z\\nB X\\nC X\\nA Z\\nA Z\\nC X\\nB X\\nC Y\\nB X\\nB X\\nC Y\\nA Z\\nA Z\\nA Z\\nA X\\nA X\\nB X\\nA Z\\nB X\\nA X\\nC Y\\nC X\\nC X\\nA X\\nA Z\\nC Y\\nB X\\nA Z\\nA Z\\nA X\\nA Z\\nB Y\\nC X\\nB X\\nC X\\nC X\\nC X\\nA X\\nC Y\\nA Z\\nC Y\\nB X\\nB X\\nB X\\nC Y\\nC Y\\nA Z\\nA Z\\nC Y\\nA Z\\nB Y\\nB X\\nA Z\\nB Y\\nC Y\\nA Z\\nC X\\nB X\\nC Y\\nC Y\\nC X\\nC X\\nA Z\\nB X\\nA Z\\nB X\\nC X\\nB X\\nC Y\\nC Z\\nC X\\nC Y\\nA Z\\nA Z\\nA Z\\nB Z\\nB X\\nA Z\\nA Z\\nB X\\nA X\\nB Y\\nB X\\nC Y\\nC Y\\nA Z\\nB X\\nC Y\\nA X\\nA Z\\nB Z\\nA Z\\nC X\\nB Y\\nB Y\\nA Z\\nA Z\\nC Y\\nB X\\nC Z\\nC X\\nA Z\\nA Z\\nB X\\nB X\\nA X\\nB Y\\nC X\\nA Z\\nC Y\\nA X\\nB X\\nA Z\\nB Y\\nB X\\nB Y\\nA Z\\nB Y\\nC X\\nA Z\\nB X\\nA Z\\nC Z\\nA Z\\nA X\\nB X\\nC Y\\nA Z\\nA Z\\nA Z\\nC X\\nB X\\nA Z\\nA Z\\nB X\\nA Z\\nA Z\\nB Z\\nA Z\\nC Y\\nB X\\nC Y\\nC Y\\nC X\\nB X\\nA Z\\nB Y\\nA Z\\nC X\\nB X\\nC Y\\nA Z\\nB X\\nB Y\\nC X\\nC Y\\nA X\\nC Y\\nB Z\\nC X\\nB X\\nC X\\nB X\\nA Z\\nB X\\nA Z\\nB Y\\nB X\\nA Z\\nB Z\\nA X\\nB Y\\nB X\\nC X\\nC X\\nB X\\nB Y\\nC Y\\nB X\\nC X\\nC X\\nC Y\\nA Z\\nC X\\nA Z\\nC Z\\nC X\\nB X\\nB X\\nA Z\\nA X\\nA Z\\nC X\\nA Z\\nB X\\nA Z\\nB Y\\nA Z\\nA Z\\nA Z\\nB Y\\nA Z\\nA X\\nA Z\\nC Y\\nA Z\\nC Y\\nA Z\\nA Z\\nC Y\\nA Z\\nA Z\\nC Y\\nB Y\\nA Z\\nA Z\\nA X\\nC X\\nB X\\nA Y\\nB Y\\nA Z\\nC Y\\nC Y\\nA Y\\nC Y\\nB Y\\nB X\\nA Z\\nB Y\\nC X\\nA Z\\nA Z\\nA Z\\nB Z\\nA Z\\nC Y\\nB X\\nB X\\nC Y\\nA Z\\nC Y\\nA Z\\nA X\\nA Z\\nB Z\\nC Y\\nB X\\nC Y\\nA Z\\nC Y\\nB X\\nC Y\\nB Z\\nB X\\nA Z\\nC Y\\nA Z\\nC Z\\nA Z\\nC X\\nB X\\nA X\\nA X\\nB Y\\nA X\\nB Z\\nB X\\nA Z\\nB Y\\nB X\\nA Z\\nA Z\\nA Z\\nC X\\nA Z\\nB Y\\nC Y\\nA Z\\nC X\\nA Y\\nA Z\\nB Z\\nB Z\\nC Y\\nA X\\nB X\\nB Y\\nC Y\\nC Y\\nA X\\nA Z\\nC X\\nC Y\\nC Y\\nB Y\\nB X\\nA Z\\nB X\\nA Z\\nA Z\\nB X\\nB Y\\nB X\\nA X\\nC Y\\nB X\\nB Z\\nA Z\\nA X\\nC X\\nB Y\\nC Z\\nB X\\nA X\\nB Y\\nA Z\\nC Y\\nC Y\\nA X\\nC Y\\nB X\\nA Z\\nA Z\\nA Z\\nA Y\\nB X\\nB X\\nA Z\\nC X\\nA Z\\nC Z\\nB Z\\nA Z\\nB X\\nA Z\\nC Y\\nB Y\\nB X\\nA Z\\nC Z\\nB Y\\nA Y\\nB X\\nB Y\\nA Z\\nC Y\\nB X\\nA Z\\nB X\\nC Y\\nA X\\nC X\\nA Z\\nA X\\nA X\\nA X\\nC Y\\nC X\\nA Z\\nA Z\\nC Y\\nB X\\nB Y\\nB X\\nB Y\\nA Z\\nC Y\\nB Y\\nB X\\nA Y\\nB Y\\nA Z\\nB X\\nB X\\nA Z\\nC X\\nB Y\\nA Z\\nA X\\nC X\\nC X\\nA Z\\nC Y\\nB Y\\nA Z\\nA Z\\nC Y\\nC X\\nA Z\\nC X\\nB X\\nC Y\\nC X\\nC Y\\nB X\\nB Y\\nC X\\nA Z\\nA Z\\nC Z\\nA Z\\nA Z\\nC X\\nC X\\nB X\\nB X\\nC X\\nB Y\\nA Z\\nC Y\\nC X\\nB Z\\nB X\\nB X\\nC X\\nB X\\nA Z\\nC Y\\nA X\\nB Y\\nB X\\nC X\\nB X\\nC Y\\nB X\\nB Y\\nA Z\\nC Z\\nC X\\nB Y\\nA Z\\nB Z\\nC Y\\nB Y\\nA Z\\nA Z\\nB X\\nB X\\nB Y\\nA Z\\nB X\\nB Z\\nA Z\\nC Y\\nC Y\\nA Z\\nB Z\\nC Y\\nC Y\\nC X\\nB X\\nB X\\nC Y\\nB X\\nC X\\nC X\\nA X\\nC Y\\nB Y\\nA Z\\nC Y\\nA X\\nA Z\\nA Z\\nC Y\\nC Y\\nB Y\\nB Y\\nA X\\nA Z\\nB X\\nA X\\nA X\\nB Y\\nB Y\\nB X\\nC X\\nA Z\\nA Z\\nB Y\\nC Y\\nC X\\nB Y\\nB Y\\nA X\\nB X\\nC Y\\nB X\\nA Z\\nA Z\\nC Z\\nA Z\\nB Z\\nB Z\\nB X\\nA X\\nC Y\\nB X\\nB X\\nC X\\nA Z\\nB X\\nC X\\nC Y\\nC Y\\nA Z\\nA Y\\nC Y\\nC Y\\nB X\\nA Y\\nB Z\\nA Z\\nA Z\\nC X\\nC Y\\nA Z\\nA Z\\nB X\\nB Y\\nA Z\\nA Y\\nB X\\nC Y\\nA Z\\nB Y\\nB X\\nB X\\nB X\\nA Z\\nA Z\\nA X\\nB Z\\nB Z\\nA X\\nC Y\\nC Y\\nB X\\nA Z\\nA X\\nA Z\\nC X\\nA Z\\nC Y\\nA Z\\nA Z\\nB X\\nA Z\\nC X\\nC Y\\nC X\\nB Y\\nC Y\\nB X\\nA Z\\nB Y\\nA Z\\nA Z\\nA Z\\nC X\\nC X\\nB Z\\nB Z\\nB X\\nB Y\\nA Z\\nC X\\nC Y\\nA X\\nC Z\\nA Z\\nB X\\nC X\\nB X\\nA Z\\nB X\\nA Z\\nC X\\nA X\\nB X\\nB X\\nA Z\\nB X\\nB X\\nC Z\\nB Z\\nB X\\nA Y\\nC X\\nB X\\nB Y\\nB Z\\nC Y\\nB X\\nC X\\nC Y\\nA X\\nB X\\nC X\\nC X\\nB X\\nA Z\\nC Y\\nB X\\nA X\\nA Z\\nB X\\nB X\\nC X\\nA X\\nA X\\nA X\\nC Y\\nA Z\\nC X\\nA Z\\nC X\\nC X\\nA Z\\nC Y\\nA Z\\nB Y\\nA Z\\nB X\\nC X\\nA Z\\nC X\\nB Z\\nB X\\nA X\\nC X\\nC X\\nC Y\\nC Y\\nB X\\nB Y\\nB X\\nC Y\\nC X\\nC Y\\nB Y\\nA Z\\nB Z\\nC Y\\nC Y\\nA Z\\nB X\\nC Y\\nA Z\\nA Z\\nA X\\nB X\\nA Z\\nB X\\nA X\\nC X\\nB Y\\nB X\\nA Z\\nC X\\nC X\\nB X\\nC Y\\nC Y\\nC Y\\nA Z\\nB X\\nA Z\\nB Y\\nA X\\nB X\\nA Z\\nB Y\\nB Y\\nB X\\nC X\\nA X\\nB Y\\nA Z\\nB X\\nC X\\nB X\\nA Z\\nC Y\\nA Z\\nA Z\\nB X\\nB X\\nA X\\nA X\\nC Z\\nC X\\nB Z\\nC Y\\nA Z\\nC Y\\nC Y\\nA Z\\nB X\\nC Z\\nC X\\nB X\\nC X\\nA Z\\nC Y\\nC Y\\nB X\\nA Z\\nC X\\nB X\\nB X\\nA X\\nC Y\\nB X\\nA Z\\nA Z\\nB X\\nB X\\nB Y\\nA Z\\nA Z\\nB Y\\nB X\\nC X\\nB X\\nA X\\nA Z\\nA X\\nB X\\nB X\\nC Y\\nA Z\\nA X\\nC Y\\nB X\\nC X\\nC X\\nC X\\nC X\\nB Z\\nB Y\\nC X\\nA X\\nC Y\\nC Y\\nC X\\nB X\\nB Y\\nB X\\nB X\\nB X\\nC X\\nB X\\nB X\\nC Y\\nC Z\\nB X\\nC Z\\nA Z\\nA Z\\nC Y\\nB Z\\nB Y\\nA Z\\nA Y\\nC Y\\nB X\\nC Y\\nA Z\\nB Y\\nC Y\\nC Y\\nA Z\\nA Z\\nC Z\\nA X\\nA Y\\nB Y\\nA Z\\nA Z\\nA X\\nC Y\\nB Y\\nA Z\\nA Z\\nB Y\\nC Y\\nC Y\\nA Z\\nA Z\\nB Y\\nA Z\\nB X\\nA X\\nA Z\\nB Y\\nC Y\\nC X\\nA X\\nC X\\nC Y\\nB X\\nB X\\nA Z\\nC Y\\nB X\\nB Y\\nC Y\\nA X\\nB Z\\nB Y\\nC Y\\nC Y\\nA Z\\nA Z\\nA X\\nC Y\\nA Z\\nB X\\nA Z\\nC X\\nC X\\nC Y\\nC X\\nB X\\nC X\\nA Z\\nB X\\nB X\\nB Y\\nB X\\nC Y\\nA Z\\nB Y\\nB X\\nC X\\nC Y\\nC Y\\nA Z\\nA Z\\nB Z\\nB X\\nA Z\\nC Y\\nA Z\\nB X\\nA Z\\nA Z\\nB X\\nB Y\\nA Z\\nB Z\\nC Y\\nA X\\nC Y\\nC Y\\nB Y\\nB Y\\nB X\\nC X\\nA Z\\nB Z\\nA X\\nC Y\\nB X\\nA Z\\nA Z\\nC Y\\nB X\\nC X\\nB X\\nA Z\\nC Y\\nA Z\\nB Z\\nA Z\\nA Z\\nA Z\\nB X\\nC Y\\nC Y\\nC Y\\nA Y\\nC X\\nC Y\\nB Y\\nA Z\\nC Y\\nA X\\nA X\\nC Y\\nA X\\nB Y\\nC X\\nC Y\\nA Z\\nC Y\\nA X\\nB Y\\nC Y\\nB Y\\nB X\\nB X\\nC Y\\nA Z\\nC X\\nA Z\\nC Y\\nA Z\\nC Z\\nA Z\\nC Y\\nA Z\\nC X\\nA X\\nC Y\\nB Y\\nC Y\\nC X\\nA Y\\nA Z\\nC Z\\nA Z\\n'}"
            ]
          },
          "metadata": {},
          "execution_count": 2
        }
      ]
    },
    {
      "cell_type": "code",
      "source": [
        "type(uploaded['dados_day2.txt'])"
      ],
      "metadata": {
        "colab": {
          "base_uri": "https://localhost:8080/"
        },
        "id": "L6FB8HLryWW7",
        "outputId": "10c165cd-9684-4320-ca01-36c6fb496e98"
      },
      "execution_count": 5,
      "outputs": [
        {
          "output_type": "execute_result",
          "data": {
            "text/plain": [
              "bytes"
            ]
          },
          "metadata": {},
          "execution_count": 5
        }
      ]
    },
    {
      "cell_type": "markdown",
      "source": [
        "Organizando os dados, para trabalhar com um formato mais próximo de uma lista."
      ],
      "metadata": {
        "id": "DwUI1_du-fe-"
      }
    },
    {
      "cell_type": "code",
      "source": [
        "content = uploaded['dados_day2.txt'].decode()"
      ],
      "metadata": {
        "id": "j767hO9mytyX"
      },
      "execution_count": 6,
      "outputs": []
    },
    {
      "cell_type": "code",
      "source": [
        "content = content.replace(\"X\", \"A\")\n",
        "content = content.replace(\"Y\", \"B\")\n",
        "content = content.replace(\"Z\", \"C\")"
      ],
      "metadata": {
        "id": "Egw1escmy2Yj"
      },
      "execution_count": 7,
      "outputs": []
    },
    {
      "cell_type": "code",
      "source": [
        "content = content.replace(\"\\n\", \",\")"
      ],
      "metadata": {
        "id": "EiNMu-YnzL1i"
      },
      "execution_count": 8,
      "outputs": []
    },
    {
      "cell_type": "code",
      "source": [
        "my_list = content.split(\",\")"
      ],
      "metadata": {
        "id": "PAA2QyGLzoGh"
      },
      "execution_count": 9,
      "outputs": []
    },
    {
      "cell_type": "code",
      "source": [
        "my_list = my_list[0:2500]"
      ],
      "metadata": {
        "colab": {
          "base_uri": "https://localhost:8080/",
          "height": 36
        },
        "id": "J2_a7OLoztpo",
        "outputId": "09074ee5-6e46-40a5-ae6a-913d94127856"
      },
      "execution_count": 14,
      "outputs": [
        {
          "output_type": "execute_result",
          "data": {
            "text/plain": [
              "'A'"
            ],
            "application/vnd.google.colaboratory.intrinsic+json": {
              "type": "string"
            }
          },
          "metadata": {},
          "execution_count": 14
        }
      ]
    },
    {
      "cell_type": "markdown",
      "source": [
        "Contagem dos As,Bs e Cs pelo usuário"
      ],
      "metadata": {
        "id": "FLpL7izD-O_1"
      }
    },
    {
      "cell_type": "code",
      "source": [
        "#primeiro contar os diferentes valores para ter o valor por pedra, papel e tesoura\n",
        "count_a=0\n",
        "count_b=0\n",
        "count_c=0\n",
        "for i in my_list:\n",
        "  if i[2] == \"A\": \n",
        "    count_a+=1\n",
        "  elif i[2] == \"B\":\n",
        "    count_b+=1\n",
        "  elif i[2] == \"C\":\n",
        "    count_c+=1\n"
      ],
      "metadata": {
        "id": "z7l1XYCbzuTJ"
      },
      "execution_count": 33,
      "outputs": []
    },
    {
      "cell_type": "code",
      "source": [
        "value_numbers = count_a*1+count_b*2+count_c*3\n",
        "value_numbers"
      ],
      "metadata": {
        "colab": {
          "base_uri": "https://localhost:8080/"
        },
        "id": "2BYnZB_f0c9Y",
        "outputId": "acdc829f-d698-4efc-d94b-90deb1f72a4a"
      },
      "execution_count": 60,
      "outputs": [
        {
          "output_type": "execute_result",
          "data": {
            "text/plain": [
              "4778"
            ]
          },
          "metadata": {},
          "execution_count": 60
        }
      ]
    },
    {
      "cell_type": "markdown",
      "source": [
        "Contagem das vitórias, derrotas e empates"
      ],
      "metadata": {
        "id": "WbR6zMLL-r8A"
      }
    },
    {
      "cell_type": "code",
      "source": [
        "count_wins = 0\n",
        "count_losses = 0\n",
        "count_ties=0\n",
        "for i in my_list:\n",
        "  if i == 'A C' or i == 'B A' or i == 'C B':\n",
        "    #print(\"win!\")\n",
        "    count_losses+=1\n",
        "  elif i == 'C A' or i == 'A B' or i == 'B C':\n",
        "    count_wins+=1\n",
        "    #print(\"loss\")\n",
        "  else:\n",
        "    count_ties+=1\n",
        "    #print(\"tie\")"
      ],
      "metadata": {
        "id": "tq3BCXVz1TbD"
      },
      "execution_count": 53,
      "outputs": []
    },
    {
      "cell_type": "code",
      "source": [
        "game_value=count_losses*6+count_ties*3"
      ],
      "metadata": {
        "id": "rks_CE5o1Y0S"
      },
      "execution_count": 65,
      "outputs": []
    },
    {
      "cell_type": "code",
      "source": [
        "count_ties+count_wins+count_losses"
      ],
      "metadata": {
        "colab": {
          "base_uri": "https://localhost:8080/"
        },
        "id": "R-eJacEw4NLW",
        "outputId": "181373ea-89ad-4b6c-dbac-bbd9f6bc3d6b"
      },
      "execution_count": 59,
      "outputs": [
        {
          "output_type": "execute_result",
          "data": {
            "text/plain": [
              "2500"
            ]
          },
          "metadata": {},
          "execution_count": 59
        }
      ]
    },
    {
      "cell_type": "markdown",
      "source": [
        "Contagem do segundo desafio, quando o que significava a segunda letra dizia respeito ao resultado, ou seja, ganhar, perder ou empatar. E já a função de reação."
      ],
      "metadata": {
        "id": "1dm8IiBT-zg2"
      }
    },
    {
      "cell_type": "code",
      "source": [
        "#instruções do elfo: \n",
        "count_result_lose=0\n",
        "count_result_tie=0\n",
        "count_result_win=0\n",
        "count_a=0\n",
        "count_b=0\n",
        "count_c=0\n",
        "for i in my_list:\n",
        "  if i[2] == \"A\": \n",
        "    count_result_lose+=1\n",
        "    if i[0] == \"A\":\n",
        "      count_c+=1\n",
        "    elif i[0] == \"B\":\n",
        "      count_a+=1\n",
        "    elif i[0] == \"C\":\n",
        "      count_b+=1\n",
        "  elif i[2] == \"B\":\n",
        "    count_result_tie+=1\n",
        "    if i[0]==\"A\": \n",
        "      count_a+=1\n",
        "    elif i[0] == \"B\": \n",
        "      count_b+=1\n",
        "    elif i[0] ==\"C\":\n",
        "      count_c+=1\n",
        "  elif i[2] == \"C\":\n",
        "    count_result_win+=1\n",
        "    if i[0]==\"A\":\n",
        "      count_b+=1\n",
        "    elif i[0]==\"B\":\n",
        "      count_c+=1\n",
        "    elif i[0]==\"C\":\n",
        "      count_a+=1\n"
      ],
      "metadata": {
        "id": "f01sdEz47iTc"
      },
      "execution_count": 67,
      "outputs": []
    },
    {
      "cell_type": "code",
      "source": [
        "count_a*1+count_b*2+count_c*3+count_result_win*6+count_result_tie*3"
      ],
      "metadata": {
        "colab": {
          "base_uri": "https://localhost:8080/"
        },
        "id": "Wbhp02kd9L9K",
        "outputId": "fb4041d4-5f46-4839-b3ca-b4540b4ad1de"
      },
      "execution_count": 68,
      "outputs": [
        {
          "output_type": "execute_result",
          "data": {
            "text/plain": [
              "11998"
            ]
          },
          "metadata": {},
          "execution_count": 68
        }
      ]
    },
    {
      "cell_type": "code",
      "source": [],
      "metadata": {
        "id": "TVMXbJy49T0q"
      },
      "execution_count": null,
      "outputs": []
    }
  ]
}